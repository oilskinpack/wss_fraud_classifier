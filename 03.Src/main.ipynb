{
 "cells": [
  {
   "cell_type": "code",
   "execution_count": 1,
   "id": "eb9742b3",
   "metadata": {},
   "outputs": [
    {
     "name": "stdout",
     "output_type": "stream",
     "text": [
      "Fitting 5 folds for each of 1 candidates, totalling 5 fits\n",
      "[CV 1/5] END estimator__max_depth=8, estimator__max_features=None, estimator__min_samples_leaf=1, estimator__min_samples_split=8, estimator__n_estimators=80;, score=0.963 total time=   6.5s\n",
      "[CV 2/5] END estimator__max_depth=8, estimator__max_features=None, estimator__min_samples_leaf=1, estimator__min_samples_split=8, estimator__n_estimators=80;, score=0.969 total time=   6.2s\n",
      "[CV 3/5] END estimator__max_depth=8, estimator__max_features=None, estimator__min_samples_leaf=1, estimator__min_samples_split=8, estimator__n_estimators=80;, score=0.959 total time=   5.7s\n",
      "[CV 4/5] END estimator__max_depth=8, estimator__max_features=None, estimator__min_samples_leaf=1, estimator__min_samples_split=8, estimator__n_estimators=80;, score=0.967 total time=   5.7s\n",
      "[CV 5/5] END estimator__max_depth=8, estimator__max_features=None, estimator__min_samples_leaf=1, estimator__min_samples_split=8, estimator__n_estimators=80;, score=0.953 total time=   5.7s\n",
      "LOG.txt сохранен\n",
      "ConfMatrix.png сохранен\n",
      "dev_model__GradientBoostingClassifier_12-55.joblib сохранена\n"
     ]
    }
   ],
   "source": [
    "from Models.model_building import run_ml_pipeline\n",
    "\n",
    "fitted_estimator = run_ml_pipeline()\n",
    "\n",
    "#Запуск полного цикла обучения модели, с сохранением результатов и логов"
   ]
  },
  {
   "cell_type": "code",
   "execution_count": null,
   "id": "c6241ba4",
   "metadata": {},
   "outputs": [],
   "source": [
    "from Utils.save_load_utils import load_model\n",
    "import pandas as pd\n",
    "import copy\n",
    "\n",
    "file_full_path = r'D:\\Khabarov\\Скрипты\\25.Проверка ВК\\ШГР06_ВО_КЛК_2025-5-26_09-30-28.xlsx'\n",
    "\n",
    "loaded_est = load_model('dev_model__GradientBoostingClassifier_10-24.joblib')\n",
    "new_data = pd.read_excel(file_full_path,sheet_name='Отчет')\n",
    "\n",
    "pred_data = copy.copy(new_data)\n",
    "pred_data['Ошибка'] = loaded_est.predict(new_data)\n",
    "\n",
    "\n",
    "pred_file_full_path = file_full_path.replace('.xlsx','_Проверка.xlsx')\n",
    "pred_data.to_excel(pred_file_full_path,sheet_name='Отчет',index=False)\n",
    "\n",
    "\n",
    "#Для предсказания и сохранения данных"
   ]
  },
  {
   "cell_type": "code",
   "execution_count": 2,
   "id": "421adba2",
   "metadata": {},
   "outputs": [],
   "source": [
    "from Data_prep.data_preparer import build_err_preparer\n",
    "import pandas as pd\n",
    "\n",
    "file_full_path = r'D:\\Khabarov\\Скрипты\\25.Проверка ВК\\ШГР06_ВО_КЛК_2025-5-26_09-30-28.xlsx'\n",
    "new_data = pd.read_excel(file_full_path,sheet_name='Отчет')\n",
    "\n",
    "prep = build_err_preparer()\n",
    "prep_data = prep.fit_transform(new_data)\n",
    "new_data['Список ошибок'] = prep_data['Список ошибок']\n",
    "\n",
    "pred_file_full_path = file_full_path.replace('.xlsx','_Проверка.xlsx')\n",
    "new_data.to_excel(pred_file_full_path,sheet_name='Отчет',index=False)\n",
    "\n",
    "#Для алгоритмического определения ошибок"
   ]
  }
 ],
 "metadata": {
  "kernelspec": {
   "display_name": ".venv",
   "language": "python",
   "name": "python3"
  },
  "language_info": {
   "codemirror_mode": {
    "name": "ipython",
    "version": 3
   },
   "file_extension": ".py",
   "mimetype": "text/x-python",
   "name": "python",
   "nbconvert_exporter": "python",
   "pygments_lexer": "ipython3",
   "version": "3.11.7"
  }
 },
 "nbformat": 4,
 "nbformat_minor": 5
}
